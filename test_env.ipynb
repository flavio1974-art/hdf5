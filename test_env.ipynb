{
 "cells": [
  {
   "cell_type": "markdown",
   "metadata": {},
   "source": [
    "This notebook checks the requirements for the SciPy 2017 HDF5 tutorial.\n",
    "\n",
    "Please run this notebook (In the **Cell** menu above, select **Run All**).\n",
    "\n",
    "Check for **OK** or **FAIL** below.\n",
    "\n",
    "If packages seem to be missing, please check if the attached kernel is correct one. In the **Kernel** menu. Choose **Change kernel**. There should be a kernel named `hdf5`."
   ]
  },
  {
   "cell_type": "code",
   "execution_count": 3,
   "metadata": {
    "collapsed": true
   },
   "outputs": [],
   "source": [
    "import sys"
   ]
  },
  {
   "cell_type": "code",
   "execution_count": 4,
   "metadata": {},
   "outputs": [
    {
     "name": "stdout",
     "output_type": "stream",
     "text": [
      "Checking python version:\n",
      "OK: Python > 3.4 found. \n"
     ]
    }
   ],
   "source": [
    "print(\"Checking python version:\")\n",
    "if sys.version_info < (3, 4):\n",
    "    print('FAIL: These notebooks require python 3!')\n",
    "else:\n",
    "    print('OK: Python > 3.4 found. ')"
   ]
  },
  {
   "cell_type": "code",
   "execution_count": 5,
   "metadata": {
    "collapsed": true,
    "scrolled": false
   },
   "outputs": [],
   "source": [
    "requirements = {'h5py', 'tables', 'matplotlib', 'pandas', 'cartopy'}"
   ]
  },
  {
   "cell_type": "code",
   "execution_count": 6,
   "metadata": {},
   "outputs": [
    {
     "name": "stdout",
     "output_type": "stream",
     "text": [
      "Checking installed packages: \n",
      "OK: tables 3.4.2-dev0\n",
      "OK: h5py 2.7.0\n",
      "OK: pandas 0.20.1\n",
      "OK: cartopy 0.15.1\n",
      "OK: matplotlib 2.0.2\n"
     ]
    }
   ],
   "source": [
    "import importlib\n",
    "print('Checking installed packages: ')\n",
    "for module in requirements:\n",
    "    try:\n",
    "        mod = importlib.import_module(module)\n",
    "        print('OK: %s %s' % (module, mod.__version__))\n",
    "    except:\n",
    "        print('FAIL: %s not installed.' % module)"
   ]
  },
  {
   "cell_type": "code",
   "execution_count": null,
   "metadata": {
    "collapsed": true
   },
   "outputs": [],
   "source": []
  }
 ],
 "metadata": {
  "kernelspec": {
   "display_name": "Python [conda env:py36]",
   "language": "python",
   "name": "conda-env-py36-py"
  },
  "language_info": {
   "codemirror_mode": {
    "name": "ipython",
    "version": 3
   },
   "file_extension": ".py",
   "mimetype": "text/x-python",
   "name": "python",
   "nbconvert_exporter": "python",
   "pygments_lexer": "ipython3",
   "version": "3.6.1"
  }
 },
 "nbformat": 4,
 "nbformat_minor": 2
}
