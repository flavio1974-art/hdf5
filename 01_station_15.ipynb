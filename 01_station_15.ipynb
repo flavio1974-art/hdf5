{
 "cells": [
  {
   "cell_type": "code",
   "execution_count": 1,
   "metadata": {},
   "outputs": [],
   "source": [
    "import numpy as np"
   ]
  },
  {
   "cell_type": "markdown",
   "metadata": {},
   "source": [
    "Supongamos que tenemos una matriz NumPy que representa algunos datos de un experimento:"
   ]
  },
  {
   "cell_type": "code",
   "execution_count": 44,
   "metadata": {},
   "outputs": [],
   "source": [
    "temperature_0 = np.random.random(1024)"
   ]
  },
  {
   "cell_type": "code",
   "execution_count": 45,
   "metadata": {},
   "outputs": [],
   "source": [
    "temperature_from_station_20=np.random.random(1024)"
   ]
  },
  {
   "cell_type": "code",
   "execution_count": 19,
   "metadata": {},
   "outputs": [
    {
     "name": "stdout",
     "output_type": "stream",
     "text": [
      "class:  ndarray\n",
      "shape:  (1024,)\n",
      "strides:  (8,)\n",
      "itemsize:  8\n",
      "aligned:  True\n",
      "contiguous:  True\n",
      "fortran:  True\n",
      "data pointer: 0x55dc3e391350\n",
      "byteorder:  little\n",
      "byteswap:  False\n",
      "type: float64\n"
     ]
    }
   ],
   "source": [
    "np.info(temperature_0)"
   ]
  },
  {
   "cell_type": "markdown",
   "metadata": {},
   "source": [
    "Imaginemos también que estos puntos de datos se registraron desde una estación meteorológica que muestreó la temperatura, por ejemplo, cada 10 segundos. "
   ]
  },
  {
   "cell_type": "code",
   "execution_count": 14,
   "metadata": {},
   "outputs": [],
   "source": [
    "dt = 10.0\n"
   ]
  },
  {
   "cell_type": "code",
   "execution_count": null,
   "metadata": {},
   "outputs": [],
   "source": [
    "La adquisición de datos comenzó en un momento particular,\n",
    "que también tendremos que registrar. "
   ]
  },
  {
   "cell_type": "code",
   "execution_count": 15,
   "metadata": {},
   "outputs": [],
   "source": [
    "start_time = 1375204299 "
   ]
  },
  {
   "cell_type": "code",
   "execution_count": null,
   "metadata": {},
   "outputs": [],
   "source": [
    "Y, por supuesto, tenemos que saber que los datos provienen\n",
    "de la Estación Meteorológica 15:\n"
   ]
  },
  {
   "cell_type": "code",
   "execution_count": 16,
   "metadata": {},
   "outputs": [],
   "source": [
    "station = 15"
   ]
  },
  {
   "cell_type": "code",
   "execution_count": 23,
   "metadata": {},
   "outputs": [],
   "source": [
    "np.savez('weather.npz', data=temperature_0, start_time=start_time, station=station)"
   ]
  },
  {
   "cell_type": "markdown",
   "metadata": {},
   "source": [
    "Podemos recuperar los valores del archivo con np.load:"
   ]
  },
  {
   "cell_type": "code",
   "execution_count": 24,
   "metadata": {},
   "outputs": [],
   "source": [
    "out = np.load('weather.npz')"
   ]
  },
  {
   "cell_type": "markdown",
   "metadata": {},
   "source": [
    "imprimimos \"out\""
   ]
  },
  {
   "cell_type": "code",
   "execution_count": 25,
   "metadata": {},
   "outputs": [
    {
     "data": {
      "text/plain": [
       "array([0.0774394 , 0.39690988, 0.65772249, ..., 0.07119171, 0.80505879,\n",
       "       0.23065056])"
      ]
     },
     "execution_count": 25,
     "metadata": {},
     "output_type": "execute_result"
    }
   ],
   "source": [
    "out['data']"
   ]
  },
  {
   "cell_type": "markdown",
   "metadata": {},
   "source": [
    "NpzFile (fid)\n",
    "\n",
    "Un objeto tipo diccionario con carga lenta de archivos en el archivo comprimido\n",
    "archivo proporcionado en la construcción.\n",
    "\n",
    "`NpzFile` se usa para cargar archivos en el archivo de datos NumPy` `.npz``\n",
    "formato. Se supone que los archivos en el archivo tienen una extensión `` .npy``,\n",
    "otros archivos son ignorados\n",
    "\n",
    "Las matrices y las cadenas de archivos se cargan perezosamente en cualquiera\n",
    "obtener acceso a elementos usando `` obj ['clave'] `` o búsqueda de atributos usando\n",
    "`` obj.f.key ''. Una lista de todos los archivos (sin extensiones `` .npy``) puede\n",
    "se obtendrá con `` obj.files '' y el objeto ZipFile en sí mismo usando\n",
    "`` obj.zip ''.\n",
    "\n",
    "Atributos\n",
    "----------\n",
    "archivos: lista de str\n",
    "    Lista de todos los archivos en el archivo con una extensión `` .npy``.\n",
    "zip: instancia de ZipFile\n",
    "    El objeto ZipFile se inicializó con el archivo comprimido.\n",
    "f: instancia de BagObj\n",
    "    Un objeto en el que el atributo se puede realizar como alternativa\n",
    "    para obtener acceso al elemento en la propia instancia de `NpzFile`.\n",
    "allow_pickle: bool, opcional\n",
    "    Permitir cargar datos encurtidos. Valor predeterminado: falso\n",
    "\n",
    "    .. versionchanged :: 1.16.3\n",
    "        Falso predeterminado en respuesta a CVE-2019-6446.\n",
    "\n",
    "pickle_kwargs: dict, opcional\n",
    "    Argumentos de palabras clave adicionales para pasar a pickle.load.\n",
    "    Estos solo son útiles al cargar matrices de objetos guardadas en\n",
    "    Python 2 cuando se usa Python 3.\n",
    "\n",
    "Parámetros\n",
    "----------\n",
    "fid: archivo o str\n",
    "    El archivo comprimido para abrir. Este es un objeto similar a un archivo\n",
    "    o una cadena que contiene la ruta al archivo.\n",
    "own_fid: bool, opcional\n",
    "    Si NpzFile debería cerrar el identificador de archivo.\n",
    "    Requiere que `fid` sea un objeto similar a un archivo.\n",
    "\n",
    "Ejemplos\n",
    "--------\n",
    ">>> desde la importación de archivos temporales TemporaryFile\n",
    ">>> archivo de salida = TemporaryFile ()\n",
    ">>> x = np. naranja (10)\n",
    ">>> y = np.sin (x)\n",
    ">>> np.savez (outfile, x = x, y = y)\n",
    ">>> _ = outfile.seek (0)\n",
    "\n",
    ">>> npz = np.load (archivo de salida)\n",
    ">>> isinstance (npz, np.lib.io.NpzFile)\n",
    "Cierto\n",
    ">>> ordenado (npz.files)\n",
    "['x', 'y']\n",
    ">>> npz ['x'] # getitem acceso\n",
    "matriz ([0, 1, 2, 3, 4, 5, 6, 7, 8, 9])\n",
    ">>> npz.fx # búsqueda de atributos\n",
    "matriz ([0, 1, 2, 3, 4, 5, 6, 7, 8, 9])"
   ]
  },
  {
   "cell_type": "code",
   "execution_count": 26,
   "metadata": {},
   "outputs": [
    {
     "data": {
      "text/plain": [
       "array(1375204299)"
      ]
     },
     "execution_count": 26,
     "metadata": {},
     "output_type": "execute_result"
    }
   ],
   "source": [
    "out['start_time']"
   ]
  },
  {
   "cell_type": "code",
   "execution_count": 27,
   "metadata": {},
   "outputs": [
    {
     "name": "stdout",
     "output_type": "stream",
     "text": [
      "class:  ndarray\n",
      "shape:  ()\n",
      "strides:  ()\n",
      "itemsize:  8\n",
      "aligned:  True\n",
      "contiguous:  True\n",
      "fortran:  True\n",
      "data pointer: 0x55dc3e355930\n",
      "byteorder:  little\n",
      "byteswap:  False\n",
      "type: int64\n"
     ]
    }
   ],
   "source": [
    "np.info(out['start_time'])"
   ]
  },
  {
   "cell_type": "code",
   "execution_count": 28,
   "metadata": {},
   "outputs": [
    {
     "data": {
      "text/plain": [
       "array(15)"
      ]
     },
     "execution_count": 28,
     "metadata": {},
     "output_type": "execute_result"
    }
   ],
   "source": [
    "out['station']"
   ]
  },
  {
   "cell_type": "code",
   "execution_count": 29,
   "metadata": {},
   "outputs": [
    {
     "name": "stdout",
     "output_type": "stream",
     "text": [
      "class:  ndarray\n",
      "shape:  ()\n",
      "strides:  ()\n",
      "itemsize:  8\n",
      "aligned:  True\n",
      "contiguous:  True\n",
      "fortran:  True\n",
      "data pointer: 0x55dc3e412de0\n",
      "byteorder:  little\n",
      "byteswap:  False\n",
      "type: int64\n"
     ]
    }
   ],
   "source": [
    "np.info(out['station'])"
   ]
  },
  {
   "cell_type": "markdown",
   "metadata": {},
   "source": [
    "Hasta aquí todo bien.\n",
    "Pero, ¿qué pasa si tenemos más de una cantidad por estación? \n",
    "\n",
    "¿Digamos que también hay datos de velocidad del viento para registrar?\n",
    "\n"
   ]
  },
  {
   "cell_type": "code",
   "execution_count": 30,
   "metadata": {},
   "outputs": [],
   "source": [
    "wind = np.random.random(2048)"
   ]
  },
  {
   "cell_type": "code",
   "execution_count": 31,
   "metadata": {},
   "outputs": [],
   "source": [
    "dt_wind = 5.0   # Wind sampled every 5 secondsÇ"
   ]
  },
  {
   "cell_type": "code",
   "execution_count": 32,
   "metadata": {},
   "outputs": [],
   "source": [
    "import h5py"
   ]
  },
  {
   "cell_type": "code",
   "execution_count": 43,
   "metadata": {},
   "outputs": [
    {
     "name": "stderr",
     "output_type": "stream",
     "text": [
      "<ipython-input-43-bc60a7513f3d>:1: H5pyDeprecationWarning: The default file mode will change to 'r' (read-only) in h5py 3.0. To suppress this warning, pass the mode you need to h5py.File(), or set the global default h5.get_config().default_file_mode, or set the environment variable H5PY_DEFAULT_READONLY=1. Available modes are: 'r', 'r+', 'w', 'w-'/'x', 'a'. See the docs for details.\n",
      "  f = h5py.File('weather.hdf5')\n"
     ]
    }
   ],
   "source": [
    "f = h5py.File('weather.hdf5')"
   ]
  },
  {
   "cell_type": "code",
   "execution_count": 34,
   "metadata": {},
   "outputs": [],
   "source": [
    " f['/15/temperature'] = temperature_0"
   ]
  },
  {
   "cell_type": "code",
   "execution_count": 35,
   "metadata": {},
   "outputs": [],
   "source": [
    "f['/15/temperature'].attrs['dt'] = 10.0"
   ]
  },
  {
   "cell_type": "code",
   "execution_count": 36,
   "metadata": {},
   "outputs": [],
   "source": [
    "f['/15/temperature'].attrs['start_time'] = 1375204299"
   ]
  },
  {
   "cell_type": "code",
   "execution_count": 37,
   "metadata": {},
   "outputs": [],
   "source": [
    "f['/15/wind'] = wind"
   ]
  },
  {
   "cell_type": "code",
   "execution_count": 40,
   "metadata": {},
   "outputs": [],
   "source": [
    "f['/15/wind'].attrs['dt'] = 5.0"
   ]
  },
  {
   "cell_type": "code",
   "execution_count": 46,
   "metadata": {},
   "outputs": [],
   "source": [
    "f['/20/temperature'] = temperature_from_station_20"
   ]
  },
  {
   "cell_type": "code",
   "execution_count": null,
   "metadata": {},
   "outputs": [],
   "source": [
    "Este ejemplo ilustra dos de las \"características asesinas\" de HDF5:\n",
    "organización en grupos y atributos jerárquicos. \n",
    "Grupos, como carpetasen un sistema de archivos, le permite almacenar conjuntos de datos relacionados juntos. \n",
    "En este caso, las mediciones de temperatura y\n",
    "viento de la misma estación meteorológica se almacenan juntas en grupos llamados \"/ 15\", \"/ 20\", etc. \n",
    "Los atributos le permiten adjuntar metadatos descriptivos directamente a los datos que describe .\n",
    "Entonces, si le entrega este archivo a un colega, \n",
    "ella puede descubrir fácilmente la información necesaria para dar sentido a los datos:"
   ]
  },
  {
   "cell_type": "code",
   "execution_count": 47,
   "metadata": {},
   "outputs": [],
   "source": [
    "dataset = f['/15/temperature']"
   ]
  },
  {
   "cell_type": "code",
   "execution_count": 49,
   "metadata": {},
   "outputs": [
    {
     "name": "stdout",
     "output_type": "stream",
     "text": [
      "dt: 10.0\n",
      "start_time: 1375204299\n"
     ]
    }
   ],
   "source": [
    "for key, value in dataset.attrs.items():\n",
    "    print ('%s: %s' % (key, value))"
   ]
  },
  {
   "cell_type": "code",
   "execution_count": null,
   "metadata": {},
   "outputs": [],
   "source": []
  }
 ],
 "metadata": {
  "kernelspec": {
   "display_name": "Python [conda env:hdf5] *",
   "language": "python",
   "name": "conda-env-hdf5-py"
  },
  "language_info": {
   "codemirror_mode": {
    "name": "ipython",
    "version": 3
   },
   "file_extension": ".py",
   "mimetype": "text/x-python",
   "name": "python",
   "nbconvert_exporter": "python",
   "pygments_lexer": "ipython3",
   "version": "3.8.0"
  },
  "widgets": {
   "application/vnd.jupyter.widget-state+json": {
    "state": {},
    "version_major": 2,
    "version_minor": 0
   }
  }
 },
 "nbformat": 4,
 "nbformat_minor": 2
}
